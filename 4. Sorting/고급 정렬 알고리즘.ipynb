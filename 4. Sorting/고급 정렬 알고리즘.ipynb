{
 "cells": [
  {
   "cell_type": "markdown",
   "id": "5a71327e",
   "metadata": {},
   "source": [
    "# 고급 정렬 알고리즘"
   ]
  },
  {
   "cell_type": "code",
   "execution_count": 3,
   "id": "c9ea462e",
   "metadata": {},
   "outputs": [],
   "source": [
    "# 병합 정렬 (merge sort)\n",
    "def merge_sort(A,p,r):\n",
    "    if p<r:\n",
    "        q =(p+r)//2\n",
    "        merge_sort(A,p,q)\n",
    "        merge_sort(A,q+1,r)\n",
    "        merge(A,p,q,r)    "
   ]
  },
  {
   "cell_type": "code",
   "execution_count": 4,
   "id": "b2360e11",
   "metadata": {},
   "outputs": [],
   "source": [
    "def merge(A,p,q,r):\n",
    "    # 정렬되어 있는 두 배열 A[p:q+1]와 A[q+1:r+1]을 합쳐 \n",
    "    # 정렬된 하나의 배열 A[p:r+1]를 만든다 \n",
    "    tmp =[]\n",
    "    i,j = p,q+1\n",
    "    while i<=q and j<=r:\n",
    "        if A[i] <= A[j]:\n",
    "            tmp.append(A[i])\n",
    "            i+=1\n",
    "        else:\n",
    "            tmp.append(A[j])\n",
    "            j+=1\n",
    "    while i<=q:\n",
    "        tmp.append(A[i])\n",
    "        i+=1\n",
    "    while j<=r:\n",
    "        tmp.append(A[j])\n",
    "        j+=1\n",
    "        \n",
    "    A[p:r+1] = tmp"
   ]
  },
  {
   "cell_type": "code",
   "execution_count": 1,
   "id": "6f073fc4",
   "metadata": {},
   "outputs": [],
   "source": [
    "# 퀵 정렬(Quick Sort)"
   ]
  },
  {
   "cell_type": "code",
   "execution_count": 5,
   "id": "996273c2",
   "metadata": {},
   "outputs": [],
   "source": [
    "def quick_aort(arr,p,r):\n",
    "    if p < r:\n",
    "        q = partition(arr, p, r)\n",
    "        \n",
    "        quick_sort(arr, p, q-1)\n",
    "        quick_sort(arr, q+1, r)"
   ]
  },
  {
   "cell_type": "code",
   "execution_count": 3,
   "id": "36b265a7",
   "metadata": {},
   "outputs": [],
   "source": [
    "def partition(arr, p, r):\n",
    "    pivot = arr[p]\n",
    "    i = p+1\n",
    "    for j in range(p+1, r+1):\n",
    "        if arr[j] <= pivot:\n",
    "            arr[i], arr[j] = arr[j], arr[i]\n",
    "            i +=1\n",
    "    arr[i-1], arr[p] = arr[p], arr[i-1]\n",
    "    return i-1"
   ]
  },
  {
   "cell_type": "code",
   "execution_count": 2,
   "id": "a501e7f1",
   "metadata": {},
   "outputs": [
    {
     "name": "stdout",
     "output_type": "stream",
     "text": [
      "0 0 1 1 2 2 3 4 5 5 6 7 8 9 9 "
     ]
    }
   ],
   "source": [
    "# 계수 정렬 (카운팅 정렬)\n",
    "# 모든 원소의 값이 0보다 크거나 같다고 가정\n",
    "arr = [7,5,9,0,3,1,6,2,9,1,4,8,0,5,2]\n",
    "\n",
    "# 모든 범위를 포함하는 리스트 선언 (모든 값은 0으로 초기화)\n",
    "cnt = [0] * (max(arr) + 1)\n",
    "\n",
    "for i in range(len(arr)):\n",
    "    cnt[arr[i]] += 1 # 각 데이터에 해당하는 인덱스의 값 증가\n",
    "    \n",
    "for i in range(len(cnt)): # 리스트에 기록된 정렬 정보 확인\n",
    "    for j in range(cnt[i]):\n",
    "        print(i, end=' ') # 띄어쓰기를 구분으로 등장한 횟수만큼 인덱스 출력"
   ]
  },
  {
   "cell_type": "code",
   "execution_count": null,
   "id": "4cd3a08a",
   "metadata": {},
   "outputs": [],
   "source": []
  }
 ],
 "metadata": {
  "kernelspec": {
   "display_name": "Python 3.10.7 64-bit",
   "language": "python",
   "name": "python3"
  },
  "language_info": {
   "codemirror_mode": {
    "name": "ipython",
    "version": 3
   },
   "file_extension": ".py",
   "mimetype": "text/x-python",
   "name": "python",
   "nbconvert_exporter": "python",
   "pygments_lexer": "ipython3",
   "version": "3.10.7"
  },
  "vscode": {
   "interpreter": {
    "hash": "b0fa6594d8f4cbf19f97940f81e996739fb7646882a419484c72d19e05852a7e"
   }
  }
 },
 "nbformat": 4,
 "nbformat_minor": 5
}
