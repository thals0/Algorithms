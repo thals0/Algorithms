{
 "cells": [
  {
   "cell_type": "markdown",
   "id": "83d06785",
   "metadata": {},
   "source": [
    "# 이진 탐색 예시"
   ]
  },
  {
   "cell_type": "markdown",
   "id": "b8a08446",
   "metadata": {},
   "source": [
    "## 떡볶이 떡 만들기 "
   ]
  },
  {
   "cell_type": "code",
   "execution_count": 4,
   "id": "0fba1275",
   "metadata": {},
   "outputs": [
    {
     "name": "stdout",
     "output_type": "stream",
     "text": [
      "4 6\n"
     ]
    }
   ],
   "source": [
    "n, m = map(int, input().split())"
   ]
  },
  {
   "cell_type": "code",
   "execution_count": 5,
   "id": "42c0199e",
   "metadata": {},
   "outputs": [
    {
     "name": "stdout",
     "output_type": "stream",
     "text": [
      "19 15 10 17\n"
     ]
    }
   ],
   "source": [
    "arr = list(map(int, input().split()))"
   ]
  },
  {
   "cell_type": "markdown",
   "id": "6934a9d1",
   "metadata": {},
   "source": [
    "### 내 풀이"
   ]
  },
  {
   "cell_type": "code",
   "execution_count": 16,
   "id": "f555aebe",
   "metadata": {},
   "outputs": [],
   "source": [
    "def binary_search(arr, start, end):\n",
    "    while start <= end:\n",
    "        mid = (start + end) // 2\n",
    "        x = 0\n",
    "        for i in arr:\n",
    "            if mid < i :\n",
    "                x += i - mid \n",
    "        if x == m:\n",
    "            return mid\n",
    "        elif x < m:\n",
    "            end = mid -1\n",
    "        else:\n",
    "            start = mid + 1\n",
    "    return None"
   ]
  },
  {
   "cell_type": "code",
   "execution_count": 17,
   "id": "8f2857c0",
   "metadata": {},
   "outputs": [
    {
     "name": "stdout",
     "output_type": "stream",
     "text": [
      "15\n"
     ]
    }
   ],
   "source": [
    "result = binary_search(arr, 0, max(arr))\n",
    "if result == None:\n",
    "    print('원소가 존재하지 않습니다.')\n",
    "else: \n",
    "    print(result)"
   ]
  },
  {
   "cell_type": "markdown",
   "id": "4aae658e",
   "metadata": {},
   "source": [
    "### 정답 풀이"
   ]
  },
  {
   "cell_type": "code",
   "execution_count": 18,
   "id": "8c814b2e",
   "metadata": {},
   "outputs": [
    {
     "name": "stdout",
     "output_type": "stream",
     "text": [
      "15\n"
     ]
    }
   ],
   "source": [
    "start = 0\n",
    "end = max(arr)\n",
    "\n",
    "result = 0\n",
    "while(start<=end):\n",
    "    total = 0\n",
    "    mid = (start + end) //2\n",
    "    for x in arr:\n",
    "        if x > mid:\n",
    "            total += x - mid\n",
    "    if total < m:\n",
    "        end = mid -1\n",
    "    else:\n",
    "        result = mid\n",
    "        start = mid + 1\n",
    "print(result)"
   ]
  },
  {
   "cell_type": "code",
   "execution_count": null,
   "id": "f24d8e7a",
   "metadata": {},
   "outputs": [],
   "source": []
  }
 ],
 "metadata": {
  "kernelspec": {
   "display_name": "Python 3.10.7 64-bit",
   "language": "python",
   "name": "python3"
  },
  "language_info": {
   "codemirror_mode": {
    "name": "ipython",
    "version": 3
   },
   "file_extension": ".py",
   "mimetype": "text/x-python",
   "name": "python",
   "nbconvert_exporter": "python",
   "pygments_lexer": "ipython3",
   "version": "3.10.7"
  },
  "vscode": {
   "interpreter": {
    "hash": "b0fa6594d8f4cbf19f97940f81e996739fb7646882a419484c72d19e05852a7e"
   }
  }
 },
 "nbformat": 4,
 "nbformat_minor": 5
}
