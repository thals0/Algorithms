{
 "cells": [
  {
   "cell_type": "markdown",
   "id": "5d62cb93",
   "metadata": {},
   "source": [
    "# 이진 탐색 소스코드"
   ]
  },
  {
   "cell_type": "markdown",
   "id": "30fc87cf",
   "metadata": {},
   "source": [
    "## 재귀적 구현"
   ]
  },
  {
   "cell_type": "code",
   "execution_count": 2,
   "id": "0ce95298",
   "metadata": {},
   "outputs": [],
   "source": [
    "def binary_search(arr, target, start, end):\n",
    "    if start > end:\n",
    "        return None\n",
    "    mid = (start + end)//2\n",
    "    if arr[mid] == target:\n",
    "        return mid\n",
    "    elif arr[mid] > target:\n",
    "        return binary_search(arr, target, start, mid-1)\n",
    "    else:\n",
    "        return binary_search(arr, target, mid+1, end)"
   ]
  },
  {
   "cell_type": "code",
   "execution_count": 6,
   "id": "de599548",
   "metadata": {},
   "outputs": [
    {
     "name": "stdout",
     "output_type": "stream",
     "text": [
      "10 7\n"
     ]
    }
   ],
   "source": [
    "n, target = map(int, input().split())"
   ]
  },
  {
   "cell_type": "code",
   "execution_count": 7,
   "id": "8c299a3b",
   "metadata": {},
   "outputs": [
    {
     "name": "stdout",
     "output_type": "stream",
     "text": [
      "1 3 5 7 9 10 11 13 15 17 19\n"
     ]
    }
   ],
   "source": [
    "arr = list(map(int,input().split()))"
   ]
  },
  {
   "cell_type": "code",
   "execution_count": 8,
   "id": "60983370",
   "metadata": {},
   "outputs": [
    {
     "name": "stdout",
     "output_type": "stream",
     "text": [
      "4\n"
     ]
    }
   ],
   "source": [
    "result = binary_search(arr, target, 0, n-1)\n",
    "if result == None:\n",
    "    print('원소가 존재하지 않습니다.')\n",
    "else: \n",
    "    print(result + 1)"
   ]
  },
  {
   "cell_type": "markdown",
   "id": "0d61a622",
   "metadata": {},
   "source": [
    "## 반복문 구현 \n"
   ]
  },
  {
   "cell_type": "code",
   "execution_count": 9,
   "id": "e61ffc99",
   "metadata": {},
   "outputs": [],
   "source": [
    "def binery_search(arr, target, start, end):\n",
    "    while start <= end:\n",
    "        mid = (start+end)//2\n",
    "        if arr[mid] == target:\n",
    "            return mid\n",
    "        elif arr[mid] > target:\n",
    "            end = mid -1\n",
    "        else:\n",
    "            start = mid + 1\n",
    "    return None"
   ]
  },
  {
   "cell_type": "code",
   "execution_count": 10,
   "id": "b9d7e23c",
   "metadata": {},
   "outputs": [
    {
     "name": "stdout",
     "output_type": "stream",
     "text": [
      "10 7\n"
     ]
    }
   ],
   "source": [
    "n, target = map(int, input().split())"
   ]
  },
  {
   "cell_type": "code",
   "execution_count": 11,
   "id": "c8224718",
   "metadata": {},
   "outputs": [
    {
     "name": "stdout",
     "output_type": "stream",
     "text": [
      "1 3 5 7 9 11 13 15 17 19\n"
     ]
    }
   ],
   "source": [
    "arr = list(map(int, input().split()))"
   ]
  },
  {
   "cell_type": "code",
   "execution_count": 12,
   "id": "baafd5e4",
   "metadata": {},
   "outputs": [
    {
     "name": "stdout",
     "output_type": "stream",
     "text": [
      "4\n"
     ]
    }
   ],
   "source": [
    "result = binary_search(arr, target, 0, n-1)\n",
    "if result == None:\n",
    "    print('원소가 존재하지 않습니다.')\n",
    "else: \n",
    "    print(result + 1)"
   ]
  },
  {
   "cell_type": "code",
   "execution_count": null,
   "id": "b276d54e",
   "metadata": {},
   "outputs": [],
   "source": []
  },
  {
   "cell_type": "markdown",
   "id": "59a1ead0",
   "metadata": {},
   "source": [
    "### 파이썬 이진 탐색 라이브러리"
   ]
  },
  {
   "cell_type": "code",
   "execution_count": 13,
   "id": "418f33a0",
   "metadata": {},
   "outputs": [],
   "source": [
    "from bisect import bisect_left, bisect_right"
   ]
  },
  {
   "cell_type": "code",
   "execution_count": 14,
   "id": "b31d9393",
   "metadata": {},
   "outputs": [],
   "source": [
    "a = [1,2,4,4,8]\n",
    "x = 4"
   ]
  },
  {
   "cell_type": "code",
   "execution_count": 15,
   "id": "dedc02aa",
   "metadata": {},
   "outputs": [
    {
     "name": "stdout",
     "output_type": "stream",
     "text": [
      "2\n",
      "4\n"
     ]
    }
   ],
   "source": [
    "print(bisect_left(a,x))\n",
    "print(bisect_right(a,x))"
   ]
  },
  {
   "cell_type": "markdown",
   "id": "555a950e",
   "metadata": {},
   "source": [
    "### 값이 특정 범위에 속하는 데이터 개수 구하기"
   ]
  },
  {
   "cell_type": "code",
   "execution_count": 16,
   "id": "38dabb66",
   "metadata": {},
   "outputs": [],
   "source": [
    "# 값이 [left_value, right_value]인 데이터의 개수를 반환하는 함수\n",
    "def cnt_by_range(a, left_value, right_value):\n",
    "    right_index = bisect_right(a, right_value)\n",
    "    left_index = bisect_left(a, left_value)\n",
    "    return right_index - left_index"
   ]
  },
  {
   "cell_type": "code",
   "execution_count": 17,
   "id": "8742f37b",
   "metadata": {},
   "outputs": [],
   "source": [
    "# 배열 선언\n",
    "a = [1,2,3,3,3,3,4,4,8,9]"
   ]
  },
  {
   "cell_type": "code",
   "execution_count": 18,
   "id": "85bcfc12",
   "metadata": {},
   "outputs": [
    {
     "name": "stdout",
     "output_type": "stream",
     "text": [
      "2\n"
     ]
    }
   ],
   "source": [
    "# 값이 4인 데이터 개수 출력\n",
    "print(cnt_by_range(a, 4,4))"
   ]
  },
  {
   "cell_type": "code",
   "execution_count": 19,
   "id": "ece1d54e",
   "metadata": {},
   "outputs": [
    {
     "name": "stdout",
     "output_type": "stream",
     "text": [
      "6\n"
     ]
    }
   ],
   "source": [
    "# 값이 [-1, 3] 범위에 있는 데이터 개수 출력 \n",
    "print(cnt_by_range(a, -1, 3))"
   ]
  },
  {
   "cell_type": "code",
   "execution_count": null,
   "id": "cbe6a3b8",
   "metadata": {},
   "outputs": [],
   "source": []
  }
 ],
 "metadata": {
  "kernelspec": {
   "display_name": "Python 3.10.7 64-bit",
   "language": "python",
   "name": "python3"
  },
  "language_info": {
   "codemirror_mode": {
    "name": "ipython",
    "version": 3
   },
   "file_extension": ".py",
   "mimetype": "text/x-python",
   "name": "python",
   "nbconvert_exporter": "python",
   "pygments_lexer": "ipython3",
   "version": "3.10.7"
  },
  "vscode": {
   "interpreter": {
    "hash": "b0fa6594d8f4cbf19f97940f81e996739fb7646882a419484c72d19e05852a7e"
   }
  }
 },
 "nbformat": 4,
 "nbformat_minor": 5
}
