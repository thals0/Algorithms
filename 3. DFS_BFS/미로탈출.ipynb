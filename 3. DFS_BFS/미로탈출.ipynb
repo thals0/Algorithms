{
 "cells": [
  {
   "cell_type": "markdown",
   "id": "a3af3a55",
   "metadata": {},
   "source": [
    "# 미로 탈출 \n",
    "\n",
    "bfs는 시작 지점에서 가까운 노드부터 차례대로 그래프의 모든 노드를 탐색함   \n",
    "상하좌우로 연결된 모든 노드로의 거리가 1로 동일   \n",
    "따라서 (1,1) 지점부터 bfs를 수행하여 모든 노드의 최단 거리 값을 기록하면 해결할 수 있음  "
   ]
  },
  {
   "cell_type": "code",
   "execution_count": null,
   "id": "ea433175",
   "metadata": {},
   "outputs": [],
   "source": [
    "from collections import deque"
   ]
  },
  {
   "cell_type": "code",
   "execution_count": null,
   "id": "5593e1fa",
   "metadata": {},
   "outputs": [],
   "source": [
    "# dfs 소스코드 구현 \n",
    "def bfs(x,y):\n",
    "    queue = deque()\n",
    "    queue.append((x,y))\n",
    "#     큐가 빌 때까지 반복\n",
    "    while queue:\n",
    "        x,y = queue.popleft()\n",
    "        for i in range(4):\n",
    "            nx = x + dx[i]\n",
    "            ny = y + dy[i]\n",
    "            if nx < 0 or nx >= n or ny < 0 or ny >= m:\n",
    "                continue\n",
    "            if graph[nx][ny] == 0:\n",
    "                continue\n",
    "            if graph[nx][ny] == 1:\n",
    "                graph[nx][ny] = graph[x][y] + 1\n",
    "                queue.append((nx,ny))\n",
    "    # 가장 오른쪽 아래까지의 최단 거리 반환\n",
    "    return graph[n-1][m-1]\n",
    "    "
   ]
  },
  {
   "cell_type": "code",
   "execution_count": null,
   "id": "ea074d69",
   "metadata": {},
   "outputs": [],
   "source": [
    "n, m = map(int, input().split())"
   ]
  },
  {
   "cell_type": "code",
   "execution_count": null,
   "id": "51bf50de",
   "metadata": {},
   "outputs": [],
   "source": [
    "graph = []\n",
    "for i in range(n):\n",
    "    graph.append(list(map(int, input())))"
   ]
  },
  {
   "cell_type": "code",
   "execution_count": null,
   "id": "1a6a5713",
   "metadata": {},
   "outputs": [],
   "source": [
    "# 이동할 네 가지 방향 정의 (상하좌우)\n",
    "dx = [-1,1,0,0]\n",
    "dy = [0,0,-1,1]"
   ]
  },
  {
   "cell_type": "code",
   "execution_count": null,
   "id": "dc85da1a",
   "metadata": {},
   "outputs": [],
   "source": [
    "print(bfs(0,0))"
   ]
  },
  {
   "cell_type": "code",
   "execution_count": null,
   "id": "94edf879",
   "metadata": {},
   "outputs": [],
   "source": []
  }
 ],
 "metadata": {
  "kernelspec": {
   "display_name": "Python 3 (ipykernel)",
   "language": "python",
   "name": "python3"
  },
  "language_info": {
   "codemirror_mode": {
    "name": "ipython",
    "version": 3
   },
   "file_extension": ".py",
   "mimetype": "text/x-python",
   "name": "python",
   "nbconvert_exporter": "python",
   "pygments_lexer": "ipython3",
   "version": "3.10.7"
  }
 },
 "nbformat": 4,
 "nbformat_minor": 5
}
