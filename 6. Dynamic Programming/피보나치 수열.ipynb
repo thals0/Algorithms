{
 "cells": [
  {
   "cell_type": "markdown",
   "id": "12419aac",
   "metadata": {},
   "source": [
    "## 피보나치 수열\n",
    "\n",
    "### 단순 재귀"
   ]
  },
  {
   "cell_type": "code",
   "execution_count": 1,
   "id": "e49eba85",
   "metadata": {},
   "outputs": [
    {
     "name": "stdout",
     "output_type": "stream",
     "text": [
      "3\n"
     ]
    }
   ],
   "source": [
    "def fibo(x):\n",
    "    if x == 1 or x ==2:\n",
    "        return 1\n",
    "    return fibo(x-1) + fibo(x-2)\n",
    "print(fibo(4))"
   ]
  },
  {
   "cell_type": "markdown",
   "id": "6f371b09",
   "metadata": {},
   "source": [
    "### 단순 재귀의 시간복잡도 분석\n",
    "\n",
    "- 단순 재귀 함수로 피보나치 수열을 해결하면 지수 시간 복잡도를 가짐\n",
    "- f(n)이 여러 번 호출되는 것 확인(중복되는 부분 문제)"
   ]
  },
  {
   "cell_type": "markdown",
   "id": "064a569e",
   "metadata": {},
   "source": [
    "## 피보나치 수열\n",
    "\n",
    "### 탑다운 다이나믹 프로그래밍\n",
    "\n",
    "메모이제이션을 이용하는 경우 피보나치 수열 함수의 시간 복잡도는 $O(N)$"
   ]
  },
  {
   "cell_type": "code",
   "execution_count": 9,
   "id": "91fee4f5",
   "metadata": {},
   "outputs": [
    {
     "name": "stdout",
     "output_type": "stream",
     "text": [
      "f(6) f(5) f(4) f(3) f(2) f(1) f(2) f(3) f(4) 8\n"
     ]
    }
   ],
   "source": [
    "# 한 번 계산된 결과를 memoization하기 위한 리스트 초기화\n",
    "d = [0]* 100\n",
    "\n",
    "# 피보나치 함수를 재귀함수로 구현(탑다운)\n",
    "def fibo(x):\n",
    "    print('f(' + str(x) + ')', end=' ')\n",
    "    # 종료 조건\n",
    "    if x ==1 or x==2:\n",
    "        return 1\n",
    "    # 이미 계산한 적 있는 문제라면 그대로 반환\n",
    "    if d[x]!=0:\n",
    "        return d[x]\n",
    "    # 아직 계산하지 않은 문제라면 점화식에 따라 피보나치 결과 반환\n",
    "    d[x] = fibo(x-1) + fibo(x-2)\n",
    "    return d[x]\n",
    "print(fibo(6))"
   ]
  },
  {
   "cell_type": "markdown",
   "id": "7293e646",
   "metadata": {},
   "source": [
    "### 보텀업 다이나믹 프로그래밍\n",
    "\n",
    "작은 문제를 미리 구하고 작은 문제를 토대로 앞으로의 큰 문제를 해결함"
   ]
  },
  {
   "cell_type": "code",
   "execution_count": 4,
   "id": "4f66afbb",
   "metadata": {},
   "outputs": [],
   "source": [
    "d = [0]*100"
   ]
  },
  {
   "cell_type": "code",
   "execution_count": 5,
   "id": "5c8c3780",
   "metadata": {},
   "outputs": [],
   "source": [
    "d[1]=1\n",
    "d[2]=1\n",
    "n = 99"
   ]
  },
  {
   "cell_type": "code",
   "execution_count": 6,
   "id": "3a703378",
   "metadata": {},
   "outputs": [],
   "source": [
    "for i in range(3, n+1):\n",
    "    d[i]=d[i-1]+d[i-2]"
   ]
  },
  {
   "cell_type": "code",
   "execution_count": 7,
   "id": "deed29bf",
   "metadata": {},
   "outputs": [
    {
     "name": "stdout",
     "output_type": "stream",
     "text": [
      "218922995834555169026\n"
     ]
    }
   ],
   "source": [
    "print(d[n])"
   ]
  },
  {
   "cell_type": "code",
   "execution_count": null,
   "id": "ae9d979b",
   "metadata": {},
   "outputs": [],
   "source": []
  }
 ],
 "metadata": {
  "kernelspec": {
   "display_name": "Python 3 (ipykernel)",
   "language": "python",
   "name": "python3"
  },
  "language_info": {
   "codemirror_mode": {
    "name": "ipython",
    "version": 3
   },
   "file_extension": ".py",
   "mimetype": "text/x-python",
   "name": "python",
   "nbconvert_exporter": "python",
   "pygments_lexer": "ipython3",
   "version": "3.10.7"
  }
 },
 "nbformat": 4,
 "nbformat_minor": 5
}
